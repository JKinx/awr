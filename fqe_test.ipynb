{
 "cells": [
  {
   "cell_type": "code",
   "execution_count": null,
   "metadata": {},
   "outputs": [],
   "source": [
    "%load_ext autoreload\n",
    "%autoreload 2\n",
    "\n",
    "import util.replay_buffer as replay_buffer\n",
    "import util.rl_path as rl_path\n",
    "from util.rl_path import compute_g\n",
    "import pickle\n",
    "import numpy as np\n",
    "from tqdm import tqdm_notebook as tqdm"
   ]
  },
  {
   "cell_type": "code",
   "execution_count": null,
   "metadata": {},
   "outputs": [],
   "source": [
    "compute_g"
   ]
  },
  {
   "cell_type": "code",
   "execution_count": null,
   "metadata": {},
   "outputs": [],
   "source": [
    "# import train data and make into new path\n",
    "train_data = pickle.load(open(\"paths.5.half.pkl\", \"rb\"))\n",
    "train_data2 = [rl_path.RLPath2(path, compute_g) for path in tqdm(train_data)]"
   ]
  },
  {
   "cell_type": "code",
   "execution_count": null,
   "metadata": {},
   "outputs": [],
   "source": [
    "buf = replay_buffer.ReplayBuffer(10000000)\n",
    "for path in tqdm(train_data2):\n",
    "    buf.store(path)"
   ]
  },
  {
   "cell_type": "code",
   "execution_count": null,
   "metadata": {},
   "outputs": [],
   "source": [
    "# gather init states\n",
    "init_states = []\n",
    "eval_paths = []\n",
    "agent._env.seed(606)\n",
    "for _ in tqdm(range(1000)):\n",
    "    path = rl_path.RLPath2(agent._rollout_path(True), compute_g)\n",
    "    eval_paths.append(path)\n",
    "    init_states.append(path.states[0])\n",
    "init_states = np.stack(init_states)"
   ]
  },
  {
   "cell_type": "code",
   "execution_count": null,
   "metadata": {},
   "outputs": [],
   "source": [
    "from util.fqe import FittedQEvaluation as FQE"
   ]
  },
  {
   "cell_type": "code",
   "execution_count": null,
   "metadata": {},
   "outputs": [],
   "source": [
    "import awr_configs\n",
    "import learning.awr_agent as awr_agent\n",
    "import gym\n",
    "import tensorflow as tf\n",
    "import warnings\n",
    "warnings.filterwarnings(\"ignore\")\n",
    "import numpy as np\n",
    "import torch\n",
    "import util.rl_path as rl_path\n",
    "from tqdm import tqdm_notebook as tqdm\n",
    "import matplotlib.pyplot as plt\n",
    "from util.policy import Policy"
   ]
  },
  {
   "cell_type": "code",
   "execution_count": null,
   "metadata": {},
   "outputs": [],
   "source": [
    "configs = awr_configs.AWR_CONFIGS['LunarLanderContinuous-v2']"
   ]
  },
  {
   "cell_type": "code",
   "execution_count": null,
   "metadata": {},
   "outputs": [],
   "source": [
    "env = gym.make(\"LunarLanderContinuous-v2\")\n",
    "graph = tf.Graph()\n",
    "sess = tf.Session(graph=graph)\n",
    "agent = awr_agent.AWRAgent(env=env, sess=sess, **configs)\n",
    "agent.load_model(\"output/model.ckpt\")"
   ]
  },
  {
   "cell_type": "code",
   "execution_count": null,
   "metadata": {},
   "outputs": [],
   "source": [
    "# run FQE\n",
    "fqe = FQE(agent._discount, agent.get_state_size(), agent.get_action_size(), 0.001)\n",
    "policy = Policy(agent)\n",
    "# c for cost\n",
    "# g for constraint\n",
    "# last argument is index of constraint\n",
    "fqe.run(policy, \"c\", buf, init_states, 200, 0)"
   ]
  },
  {
   "cell_type": "code",
   "execution_count": null,
   "metadata": {},
   "outputs": [],
   "source": [
    "# exact policy eval\n",
    "costs = []\n",
    "for path in eval_paths:\n",
    "    path.set_cost(buf.scale, \"c\", 0)\n",
    "    costs.append(path.discounted_sum(agent._discount, \"costs\"))\n",
    "costs = np.array(costs)\n",
    "costs.mean()"
   ]
  },
  {
   "cell_type": "code",
   "execution_count": null,
   "metadata": {},
   "outputs": [],
   "source": [
    "# FQE eval\n",
    "S = init_states\n",
    "A = policy(S)\n",
    "SA = np.hstack([S, A]) \n",
    "predicts = fqe.Q(SA)\n",
    "predicts.mean()"
   ]
  },
  {
   "cell_type": "code",
   "execution_count": null,
   "metadata": {},
   "outputs": [],
   "source": [
    "plt.scatter(costs, predicts, color=\"r\")\n",
    "plt.xlabel(\"True Value\")\n",
    "plt.ylabel(\"Prediction\")\n",
    "plt.show()"
   ]
  }
 ],
 "metadata": {
  "kernelspec": {
   "display_name": "dev",
   "language": "python",
   "name": "dev"
  },
  "language_info": {
   "codemirror_mode": {
    "name": "ipython",
    "version": 3
   },
   "file_extension": ".py",
   "mimetype": "text/x-python",
   "name": "python",
   "nbconvert_exporter": "python",
   "pygments_lexer": "ipython3",
   "version": "3.6.8"
  }
 },
 "nbformat": 4,
 "nbformat_minor": 2
}
